{
  "nbformat": 4,
  "nbformat_minor": 0,
  "metadata": {
    "colab": {
      "name": "clase 2.ipynb",
      "provenance": [],
      "collapsed_sections": []
    },
    "kernelspec": {
      "name": "python3",
      "display_name": "Python 3"
    },
    "language_info": {
      "name": "python"
    },
    "gpuClass": "standard"
  },
  "cells": [
    {
      "cell_type": "markdown",
      "source": [
        "## Dict Comprenhension"
      ],
      "metadata": {
        "id": "7DScksamlHoN"
      }
    },
    {
      "cell_type": "code",
      "source": [
        "string1= \"La casa tenía una reja\""
      ],
      "metadata": {
        "id": "Or3sxzsglez6"
      },
      "execution_count": 1,
      "outputs": []
    },
    {
      "cell_type": "code",
      "source": [
        "dict1 = {num**3:num**2 for num in range(10)}"
      ],
      "metadata": {
        "id": "CDfS2vxqnKUC"
      },
      "execution_count": 12,
      "outputs": []
    },
    {
      "cell_type": "code",
      "source": [
        "dict1"
      ],
      "metadata": {
        "colab": {
          "base_uri": "https://localhost:8080/"
        },
        "id": "G-e88_Q8oYVf",
        "outputId": "18716522-c1f0-41a8-b497-487b3c3f8d15"
      },
      "execution_count": 13,
      "outputs": [
        {
          "output_type": "execute_result",
          "data": {
            "text/plain": [
              "{0: 0, 1: 1, 8: 4, 27: 9, 64: 16, 125: 25, 216: 36, 343: 49, 512: 64, 729: 81}"
            ]
          },
          "metadata": {},
          "execution_count": 13
        }
      ]
    },
    {
      "cell_type": "code",
      "source": [
        ""
      ],
      "metadata": {
        "id": "cyo9W874oICf"
      },
      "execution_count": null,
      "outputs": []
    },
    {
      "cell_type": "markdown",
      "source": [
        "## Funciones"
      ],
      "metadata": {
        "id": "Q9ES04vLotlF"
      }
    },
    {
      "cell_type": "code",
      "source": [
        "import numpy as np"
      ],
      "metadata": {
        "id": "f4YYT3OkpCBV"
      },
      "execution_count": 14,
      "outputs": []
    },
    {
      "cell_type": "code",
      "source": [
        "r = 10\n",
        "p = 2*np.pi*r\n",
        "a = np.pi*(r**2)"
      ],
      "metadata": {
        "id": "6a5zTMmlou2l"
      },
      "execution_count": 19,
      "outputs": []
    },
    {
      "cell_type": "code",
      "source": [
        "def conv_radio(r):\n",
        "    p = 2*np.pi*r\n",
        "    a = np.pi*(r**2)\n",
        "    return p,a"
      ],
      "metadata": {
        "id": "5-GHdJSTpb--"
      },
      "execution_count": 41,
      "outputs": []
    },
    {
      "cell_type": "code",
      "source": [
        "datos = conv_radio(r)"
      ],
      "metadata": {
        "id": "csAsUUhfpcB0"
      },
      "execution_count": 42,
      "outputs": []
    },
    {
      "cell_type": "code",
      "source": [
        "datos[0]"
      ],
      "metadata": {
        "colab": {
          "base_uri": "https://localhost:8080/"
        },
        "id": "9FITRanTqCi7",
        "outputId": "38fc19d4-0b92-4b10-8fc2-883b9bf072a3"
      },
      "execution_count": 43,
      "outputs": [
        {
          "output_type": "execute_result",
          "data": {
            "text/plain": [
              "62.83185307179586"
            ]
          },
          "metadata": {},
          "execution_count": 43
        }
      ]
    },
    {
      "cell_type": "code",
      "source": [
        "datos[1]"
      ],
      "metadata": {
        "colab": {
          "base_uri": "https://localhost:8080/"
        },
        "id": "o9hVBP9lpcEh",
        "outputId": "b23b76d4-3962-4756-e55e-56d95e366f75"
      },
      "execution_count": 44,
      "outputs": [
        {
          "output_type": "execute_result",
          "data": {
            "text/plain": [
              "314.1592653589793"
            ]
          },
          "metadata": {},
          "execution_count": 44
        }
      ]
    },
    {
      "cell_type": "code",
      "source": [
        "per, area = conv_radio(r)"
      ],
      "metadata": {
        "id": "jgXZOg9DpcJf"
      },
      "execution_count": 45,
      "outputs": []
    },
    {
      "cell_type": "code",
      "source": [
        "per"
      ],
      "metadata": {
        "colab": {
          "base_uri": "https://localhost:8080/"
        },
        "id": "ppwPFRevpLhO",
        "outputId": "9c182950-461f-47e3-fba1-85016a894c4e"
      },
      "execution_count": 46,
      "outputs": [
        {
          "output_type": "execute_result",
          "data": {
            "text/plain": [
              "62.83185307179586"
            ]
          },
          "metadata": {},
          "execution_count": 46
        }
      ]
    },
    {
      "cell_type": "code",
      "source": [
        "area"
      ],
      "metadata": {
        "colab": {
          "base_uri": "https://localhost:8080/"
        },
        "id": "6QasUZF8qeon",
        "outputId": "11c12bf0-1b7b-4dbe-e5cf-01386c5e86e2"
      },
      "execution_count": 47,
      "outputs": [
        {
          "output_type": "execute_result",
          "data": {
            "text/plain": [
              "314.1592653589793"
            ]
          },
          "metadata": {},
          "execution_count": 47
        }
      ]
    },
    {
      "cell_type": "code",
      "source": [
        "def conv_radio(r, factor=1, string=False):\n",
        "    if string:\n",
        "        p= \"devuelvo\"\n",
        "        a= \"string\"\n",
        "    else:\n",
        "        r = r * factor\n",
        "        p = 2*np.pi*r\n",
        "        a = np.pi*(r**2)\n",
        "    return p,a"
      ],
      "metadata": {
        "id": "7YMi7fLLqprd"
      },
      "execution_count": 63,
      "outputs": []
    },
    {
      "cell_type": "code",
      "source": [
        "per, area = conv_radio(r)"
      ],
      "metadata": {
        "id": "a8oW1F_Zq_pJ"
      },
      "execution_count": 57,
      "outputs": []
    },
    {
      "cell_type": "code",
      "source": [
        "per"
      ],
      "metadata": {
        "colab": {
          "base_uri": "https://localhost:8080/"
        },
        "id": "Kg4WaqoerDVQ",
        "outputId": "14184ae2-1ad9-4505-94a2-5f69b91d4864"
      },
      "execution_count": 58,
      "outputs": [
        {
          "output_type": "execute_result",
          "data": {
            "text/plain": [
              "62.83185307179586"
            ]
          },
          "metadata": {},
          "execution_count": 58
        }
      ]
    },
    {
      "cell_type": "code",
      "source": [
        "area"
      ],
      "metadata": {
        "colab": {
          "base_uri": "https://localhost:8080/"
        },
        "id": "xPY-bYW_rD5j",
        "outputId": "dd4825e2-369f-451a-ab1c-9763a88c92f0"
      },
      "execution_count": 59,
      "outputs": [
        {
          "output_type": "execute_result",
          "data": {
            "text/plain": [
              "314.1592653589793"
            ]
          },
          "metadata": {},
          "execution_count": 59
        }
      ]
    },
    {
      "cell_type": "code",
      "source": [
        "per, area = conv_radio(r,2)"
      ],
      "metadata": {
        "id": "A_lzX6j1rEcA"
      },
      "execution_count": 60,
      "outputs": []
    },
    {
      "cell_type": "code",
      "source": [
        "per"
      ],
      "metadata": {
        "colab": {
          "base_uri": "https://localhost:8080/"
        },
        "id": "DisqEBM2rfjE",
        "outputId": "7c91b89b-19a4-4dde-c171-dabb9844cb24"
      },
      "execution_count": 61,
      "outputs": [
        {
          "output_type": "execute_result",
          "data": {
            "text/plain": [
              "125.66370614359172"
            ]
          },
          "metadata": {},
          "execution_count": 61
        }
      ]
    },
    {
      "cell_type": "code",
      "source": [
        "area"
      ],
      "metadata": {
        "colab": {
          "base_uri": "https://localhost:8080/"
        },
        "id": "i8ljY_Wlrgx8",
        "outputId": "6b1f3d41-8599-4f75-aa75-5404844ee6af"
      },
      "execution_count": 62,
      "outputs": [
        {
          "output_type": "execute_result",
          "data": {
            "text/plain": [
              "1256.6370614359173"
            ]
          },
          "metadata": {},
          "execution_count": 62
        }
      ]
    },
    {
      "cell_type": "code",
      "source": [
        "conv_radio(7,string=True)"
      ],
      "metadata": {
        "colab": {
          "base_uri": "https://localhost:8080/"
        },
        "id": "5NNtJBVqrhHT",
        "outputId": "aacd8e52-5723-4704-e326-7101dabec98b"
      },
      "execution_count": 65,
      "outputs": [
        {
          "output_type": "execute_result",
          "data": {
            "text/plain": [
              "('devuelvo', 'string')"
            ]
          },
          "metadata": {},
          "execution_count": 65
        }
      ]
    },
    {
      "cell_type": "code",
      "source": [
        "def type_var(r):\n",
        "    if type(r) == int:\n",
        "        print(\"r es entero\")\n",
        "    elif type(r) == float:\n",
        "        print(\"r es float\")\n",
        "    elif type(r) == str:\n",
        "        print(\"r es string y vale:\", r)"
      ],
      "metadata": {
        "id": "C0B_IigksE_E"
      },
      "execution_count": 66,
      "outputs": []
    },
    {
      "cell_type": "code",
      "source": [
        "type_var(\"hola mundo\")"
      ],
      "metadata": {
        "colab": {
          "base_uri": "https://localhost:8080/"
        },
        "id": "bz-aspYXss5a",
        "outputId": "b4edb79d-46b1-46d9-d7f3-c081514fdf7e"
      },
      "execution_count": 69,
      "outputs": [
        {
          "output_type": "stream",
          "name": "stdout",
          "text": [
            "r es string y vale: hola mundo\n"
          ]
        }
      ]
    },
    {
      "cell_type": "code",
      "source": [
        "a = int(input(\"ingrese un número entero: \"))\n",
        "count = 0\n",
        "while(count<10 and a!=73):\n",
        "    a = a//2+1\n",
        "    count += 1\n",
        "    print(count,a)"
      ],
      "metadata": {
        "colab": {
          "base_uri": "https://localhost:8080/"
        },
        "id": "zkzIBOBbsuio",
        "outputId": "6e92896d-03f9-422a-9cec-07f8be157f61"
      },
      "execution_count": 76,
      "outputs": [
        {
          "output_type": "stream",
          "name": "stdout",
          "text": [
            "ingrese un número entero: 288\n",
            "1 145\n",
            "2 73\n"
          ]
        }
      ]
    },
    {
      "cell_type": "code",
      "source": [
        "np.sqrt(-1)"
      ],
      "metadata": {
        "colab": {
          "base_uri": "https://localhost:8080/"
        },
        "id": "YQeD3QZitp6E",
        "outputId": "86aaaef8-e3f3-4543-e3a8-fdf83cc2d41c"
      },
      "execution_count": 77,
      "outputs": [
        {
          "output_type": "stream",
          "name": "stderr",
          "text": [
            "/usr/local/lib/python3.7/dist-packages/ipykernel_launcher.py:1: RuntimeWarning: invalid value encountered in sqrt\n",
            "  \"\"\"Entry point for launching an IPython kernel.\n"
          ]
        },
        {
          "output_type": "execute_result",
          "data": {
            "text/plain": [
              "nan"
            ]
          },
          "metadata": {},
          "execution_count": 77
        }
      ]
    },
    {
      "cell_type": "code",
      "source": [
        "# (4,0) -> (2,0)\n",
        "# (-1,0) -> (0,1)\n",
        "# (0,1) **2 -> (-1,0)"
      ],
      "metadata": {
        "id": "sGq9w9fMvA1s"
      },
      "execution_count": 78,
      "outputs": []
    },
    {
      "cell_type": "code",
      "source": [
        "#(a,b) + (c,d) = (a+c, b+d)"
      ],
      "metadata": {
        "id": "9tYFT1rEv1Kx"
      },
      "execution_count": 79,
      "outputs": []
    },
    {
      "cell_type": "code",
      "source": [
        "class numero_complejo:\n",
        "\n",
        "    def __init__(self,real, im):\n",
        "        self.real = real\n",
        "        self.im = im\n",
        "\n",
        "    def modulo(self):\n",
        "        return np.sqrt(self.real**2 + self.im**2)+factor\n",
        "    \n",
        "    def __add__(self,number):\n",
        "        aux = numero_complejo(0,0)\n",
        "        if type(number) == int or type(number) == float:\n",
        "            aux.real = self.real + number.real\n",
        "        else:\n",
        "            aux.real = self.real + number.real\n",
        "            aux.im = self.im + number.im\n",
        "        return aux\n",
        "    \n",
        "    def __repr__(self):\n",
        "        return f\"real: {self.real}, im: {self.im}\"\n",
        "    \n",
        "    def __len__(self):\n",
        "        return 2\n",
        "    \n",
        "    def __getitem__(self,idx):\n",
        "        if idx>1:\n",
        "            print(\"Un número complejo sólo tiene dos índices\")\n",
        "        elif idx == 1:\n",
        "            return self.im\n",
        "        else:\n",
        "            return self.real"
      ],
      "metadata": {
        "id": "8yAQQNlUwEe3"
      },
      "execution_count": 205,
      "outputs": []
    },
    {
      "cell_type": "code",
      "source": [
        "comp1 = numero_complejo(3,5)"
      ],
      "metadata": {
        "id": "SQYRqhwRwbFU"
      },
      "execution_count": 206,
      "outputs": []
    },
    {
      "cell_type": "code",
      "source": [
        "comp1.modulo()"
      ],
      "metadata": {
        "colab": {
          "base_uri": "https://localhost:8080/"
        },
        "id": "5g6A6KdD3Eeb",
        "outputId": "59a37665-bb2f-44d9-ee74-daa87f383187"
      },
      "execution_count": 207,
      "outputs": [
        {
          "output_type": "execute_result",
          "data": {
            "text/plain": [
              "6.830951894845301"
            ]
          },
          "metadata": {},
          "execution_count": 207
        }
      ]
    },
    {
      "cell_type": "code",
      "source": [
        "comp1[1]"
      ],
      "metadata": {
        "colab": {
          "base_uri": "https://localhost:8080/"
        },
        "id": "TDzmbjK04Dy_",
        "outputId": "768d0c33-1400-40e7-97e9-fda61edef318"
      },
      "execution_count": 213,
      "outputs": [
        {
          "output_type": "execute_result",
          "data": {
            "text/plain": [
              "5"
            ]
          },
          "metadata": {},
          "execution_count": 213
        }
      ]
    },
    {
      "cell_type": "code",
      "source": [
        "len(comp1)"
      ],
      "metadata": {
        "colab": {
          "base_uri": "https://localhost:8080/"
        },
        "id": "OY5i0byo3ra5",
        "outputId": "0e5027f7-70d6-4235-d732-d58cd28aa6f9"
      },
      "execution_count": 200,
      "outputs": [
        {
          "output_type": "execute_result",
          "data": {
            "text/plain": [
              "2"
            ]
          },
          "metadata": {},
          "execution_count": 200
        }
      ]
    },
    {
      "cell_type": "code",
      "source": [
        "b = numero_complejo(-4,7)"
      ],
      "metadata": {
        "id": "WWJqAoSIx-Im"
      },
      "execution_count": 165,
      "outputs": []
    },
    {
      "cell_type": "code",
      "source": [
        "c = a + b "
      ],
      "metadata": {
        "id": "aB8GFNTVzvck"
      },
      "execution_count": 166,
      "outputs": []
    },
    {
      "cell_type": "code",
      "source": [
        "c"
      ],
      "metadata": {
        "colab": {
          "base_uri": "https://localhost:8080/"
        },
        "id": "HTxIPiqP0D48",
        "outputId": "03d25531-8455-4f3c-d1a4-45908a2b3a69"
      },
      "execution_count": 167,
      "outputs": [
        {
          "output_type": "execute_result",
          "data": {
            "text/plain": [
              "real: -1, im: 12"
            ]
          },
          "metadata": {},
          "execution_count": 167
        }
      ]
    },
    {
      "cell_type": "code",
      "source": [
        "\"hola mundo\".upper()"
      ],
      "metadata": {
        "colab": {
          "base_uri": "https://localhost:8080/",
          "height": 35
        },
        "id": "j1wuy-_d0Oc-",
        "outputId": "29a57951-0a25-411e-8db6-813410f80e82"
      },
      "execution_count": 168,
      "outputs": [
        {
          "output_type": "execute_result",
          "data": {
            "text/plain": [
              "'HOLA MUNDO'"
            ],
            "application/vnd.google.colaboratory.intrinsic+json": {
              "type": "string"
            }
          },
          "metadata": {},
          "execution_count": 168
        }
      ]
    },
    {
      "cell_type": "code",
      "source": [
        ""
      ],
      "metadata": {
        "id": "kS3ipFvw0VX_"
      },
      "execution_count": 169,
      "outputs": []
    },
    {
      "cell_type": "markdown",
      "source": [
        "## Alcance de una variable"
      ],
      "metadata": {
        "id": "6pU4msUe1RuK"
      }
    },
    {
      "cell_type": "code",
      "source": [
        "p = 18\n",
        "a = 25\n",
        "r = 10\n"
      ],
      "metadata": {
        "id": "SAaKU7pt1XjC"
      },
      "execution_count": 184,
      "outputs": []
    },
    {
      "cell_type": "code",
      "source": [
        "factor = 1"
      ],
      "metadata": {
        "id": "tRieTHYU1Xwr"
      },
      "execution_count": 187,
      "outputs": []
    },
    {
      "cell_type": "code",
      "source": [
        "def conv_radio(r, factor = 1, string=False):\n",
        "    if string:\n",
        "        p= \"devuelvo\"\n",
        "        a= \"string\"\n",
        "    else:\n",
        "        r = r * factor\n",
        "        p = 2*np.pi*r\n",
        "        a = np.pi*(r**2)\n",
        "    return p,a"
      ],
      "metadata": {
        "id": "t-rCB1Cn00Sg"
      },
      "execution_count": 190,
      "outputs": []
    },
    {
      "cell_type": "code",
      "source": [
        "perim, area = conv_radio(16)"
      ],
      "metadata": {
        "id": "MLf8KNAv1bop"
      },
      "execution_count": 189,
      "outputs": []
    },
    {
      "cell_type": "code",
      "source": [
        "lista = [1,2,3,4,5]"
      ],
      "metadata": {
        "id": "dC1BJgta1jLn"
      },
      "execution_count": 214,
      "outputs": []
    },
    {
      "cell_type": "code",
      "source": [
        "lista * 2"
      ],
      "metadata": {
        "colab": {
          "base_uri": "https://localhost:8080/"
        },
        "id": "oyp_c8uX9Y-W",
        "outputId": "fac544fd-e6a7-4083-b67b-583127dc00eb"
      },
      "execution_count": 215,
      "outputs": [
        {
          "output_type": "execute_result",
          "data": {
            "text/plain": [
              "[1, 2, 3, 4, 5, 1, 2, 3, 4, 5]"
            ]
          },
          "metadata": {},
          "execution_count": 215
        }
      ]
    },
    {
      "cell_type": "code",
      "source": [
        "import numpy as np "
      ],
      "metadata": {
        "id": "lIpHOKh29Z-L"
      },
      "execution_count": 216,
      "outputs": []
    },
    {
      "cell_type": "code",
      "source": [
        "np"
      ],
      "metadata": {
        "colab": {
          "base_uri": "https://localhost:8080/"
        },
        "id": "H7SeiD7c9jKG",
        "outputId": "0029af69-4bce-4ccc-dc89-a597b3723fda"
      },
      "execution_count": 217,
      "outputs": [
        {
          "output_type": "execute_result",
          "data": {
            "text/plain": [
              "<module 'numpy' from '/usr/local/lib/python3.7/dist-packages/numpy/__init__.py'>"
            ]
          },
          "metadata": {},
          "execution_count": 217
        }
      ]
    },
    {
      "cell_type": "code",
      "source": [
        "np.pi"
      ],
      "metadata": {
        "colab": {
          "base_uri": "https://localhost:8080/"
        },
        "id": "vZI8Qweo9jp4",
        "outputId": "15ada0fb-c86a-471a-f8d5-df6260bed703"
      },
      "execution_count": 218,
      "outputs": [
        {
          "output_type": "execute_result",
          "data": {
            "text/plain": [
              "3.141592653589793"
            ]
          },
          "metadata": {},
          "execution_count": 218
        }
      ]
    },
    {
      "cell_type": "code",
      "source": [
        "np.e"
      ],
      "metadata": {
        "colab": {
          "base_uri": "https://localhost:8080/"
        },
        "id": "MRwncsGp9rDN",
        "outputId": "f272e1e3-5ab7-4753-908a-830cc39f13a7"
      },
      "execution_count": 219,
      "outputs": [
        {
          "output_type": "execute_result",
          "data": {
            "text/plain": [
              "2.718281828459045"
            ]
          },
          "metadata": {},
          "execution_count": 219
        }
      ]
    },
    {
      "cell_type": "code",
      "source": [
        "arr1 = np.array([1,1,1])"
      ],
      "metadata": {
        "id": "kb3rIseo9sL3"
      },
      "execution_count": 227,
      "outputs": []
    },
    {
      "cell_type": "code",
      "source": [
        "arr1 * 2"
      ],
      "metadata": {
        "colab": {
          "base_uri": "https://localhost:8080/"
        },
        "id": "BTa21GpL9zey",
        "outputId": "c0cb4268-3a74-4c9a-eda1-bfc63980a276"
      },
      "execution_count": 228,
      "outputs": [
        {
          "output_type": "execute_result",
          "data": {
            "text/plain": [
              "array([2, 2, 2])"
            ]
          },
          "metadata": {},
          "execution_count": 228
        }
      ]
    },
    {
      "cell_type": "code",
      "source": [
        "mat = np.array([[1,2,3],[4,5,6],[7,8,9]])"
      ],
      "metadata": {
        "id": "n54Gw0HQ90FP"
      },
      "execution_count": 229,
      "outputs": []
    },
    {
      "cell_type": "code",
      "source": [
        "mat"
      ],
      "metadata": {
        "colab": {
          "base_uri": "https://localhost:8080/"
        },
        "id": "LFVKSHdl-CLH",
        "outputId": "fff84b29-5102-4f16-c6f5-d25cf5a10374"
      },
      "execution_count": 230,
      "outputs": [
        {
          "output_type": "execute_result",
          "data": {
            "text/plain": [
              "array([[1, 2, 3],\n",
              "       [4, 5, 6],\n",
              "       [7, 8, 9]])"
            ]
          },
          "metadata": {},
          "execution_count": 230
        }
      ]
    },
    {
      "cell_type": "code",
      "source": [
        "np.dot(arr1,mat)"
      ],
      "metadata": {
        "colab": {
          "base_uri": "https://localhost:8080/"
        },
        "id": "tqiecJit-Cqr",
        "outputId": "c871e2c9-13d4-4570-e284-75929f4f5382"
      },
      "execution_count": 231,
      "outputs": [
        {
          "output_type": "execute_result",
          "data": {
            "text/plain": [
              "array([12, 15, 18])"
            ]
          },
          "metadata": {},
          "execution_count": 231
        }
      ]
    },
    {
      "cell_type": "code",
      "source": [
        "np.random.randint(0,10,size = 50)"
      ],
      "metadata": {
        "colab": {
          "base_uri": "https://localhost:8080/"
        },
        "id": "fzd_ugwG-GAy",
        "outputId": "c3865d81-0b55-43bc-b4e6-10c94bcb1698"
      },
      "execution_count": 233,
      "outputs": [
        {
          "output_type": "execute_result",
          "data": {
            "text/plain": [
              "array([9, 2, 5, 0, 0, 7, 5, 8, 9, 0, 8, 7, 9, 8, 4, 5, 3, 6, 6, 7, 9, 2,\n",
              "       1, 3, 3, 0, 6, 7, 3, 1, 3, 5, 1, 2, 5, 6, 9, 2, 1, 0, 7, 8, 8, 5,\n",
              "       8, 2, 8, 5, 3, 9])"
            ]
          },
          "metadata": {},
          "execution_count": 233
        }
      ]
    },
    {
      "cell_type": "code",
      "source": [
        "arr_rand = np.random.normal(5,3,size=500)"
      ],
      "metadata": {
        "id": "kgZK8a8h-V7k"
      },
      "execution_count": 257,
      "outputs": []
    },
    {
      "cell_type": "code",
      "source": [
        "arr_rand.mean()"
      ],
      "metadata": {
        "colab": {
          "base_uri": "https://localhost:8080/"
        },
        "id": "r6HKHz88_iCf",
        "outputId": "e87d8f8d-846a-4ed6-84c9-59c1ac3d21e2"
      },
      "execution_count": 255,
      "outputs": [
        {
          "output_type": "execute_result",
          "data": {
            "text/plain": [
              "5.00377776072634"
            ]
          },
          "metadata": {},
          "execution_count": 255
        }
      ]
    },
    {
      "cell_type": "code",
      "source": [
        "arr_rand.std()"
      ],
      "metadata": {
        "colab": {
          "base_uri": "https://localhost:8080/"
        },
        "id": "bHPepKUb_iFK",
        "outputId": "8403dcff-8c8d-4846-fe6d-4377539e22ee"
      },
      "execution_count": 256,
      "outputs": [
        {
          "output_type": "execute_result",
          "data": {
            "text/plain": [
              "2.9989615284415"
            ]
          },
          "metadata": {},
          "execution_count": 256
        }
      ]
    },
    {
      "cell_type": "code",
      "source": [
        "np.concatenate([arr1,arr_rand])"
      ],
      "metadata": {
        "colab": {
          "base_uri": "https://localhost:8080/"
        },
        "id": "mWAlHwID_iHm",
        "outputId": "c129546a-2563-451e-c2f9-12e8e508801b"
      },
      "execution_count": 258,
      "outputs": [
        {
          "output_type": "execute_result",
          "data": {
            "text/plain": [
              "array([ 1.        ,  1.        ,  1.        ,  7.44882314,  6.82394339,\n",
              "        7.98912439,  5.15008405, -0.67518893,  3.38978827,  3.88758626,\n",
              "        3.03151081,  9.04631845,  2.80230804,  2.17900414,  0.77663187,\n",
              "        6.05674101,  9.29235507,  5.10189121,  6.35177309,  5.86086774,\n",
              "       11.64150932,  1.21819738,  1.80298323,  4.86641669,  6.05407056,\n",
              "        6.0959287 ,  7.08916029,  5.41998038,  2.58803104,  2.5257775 ,\n",
              "        4.58275625,  6.00593057,  3.87681042, -1.35247662,  2.46756   ,\n",
              "        6.57050083,  2.88168082,  1.4991576 ,  8.75501806, 10.18086804,\n",
              "        8.65197868,  1.88020331,  7.49130765,  2.26200752,  7.41103749,\n",
              "        5.16049851,  0.1764731 ,  7.73496668,  6.52785729,  4.44268229,\n",
              "        7.23199824, 10.1239246 ,  6.7504626 ,  2.85621326,  5.5031081 ,\n",
              "       13.08253911, 11.05032982,  3.5056527 ,  8.17564637,  5.35532542,\n",
              "        3.52863673,  3.28216698,  0.55161736,  4.45771005,  6.23987558,\n",
              "        3.18519247,  3.17149247, 12.89152928,  4.84327561,  5.75697469,\n",
              "        5.63280173, -0.6542897 ,  2.11969408,  6.88325288,  5.63996474,\n",
              "        1.62306181,  9.47507207,  2.25806349,  9.46686937,  4.88137857,\n",
              "        2.27417929,  2.71523017,  4.36676584,  3.21451668,  3.15063629,\n",
              "        1.80484507, 10.39254521,  8.99932439,  6.02794455,  5.73343985,\n",
              "        6.39911432, 11.08924025,  6.0003621 ,  0.2937736 ,  7.08700801,\n",
              "        1.52328665,  8.78523906,  4.63206791,  6.16734507,  4.32448299,\n",
              "        2.63219768,  8.68846247,  6.85860685,  8.44537305,  7.41015737,\n",
              "        1.36083383,  2.78187239,  5.65516432,  2.48548614,  3.10023789,\n",
              "       12.11490047,  3.39389939,  7.25774357,  5.27612697,  9.14069306,\n",
              "        7.76569412,  5.47035786,  4.05581101,  8.70101536,  5.43132818,\n",
              "       11.63481282,  1.80348112,  6.79106661,  2.649525  ,  6.99863375,\n",
              "        7.60161699,  7.21586573,  2.87735154,  4.57977482,  3.65270425,\n",
              "        6.09400043,  3.24542228,  4.89460153,  6.33220021, 12.78256537,\n",
              "        8.8629902 ,  1.06385859,  6.29184017,  3.00156131,  5.40640391,\n",
              "        7.8796161 ,  5.66205851,  6.1071593 ,  7.13385486,  4.70298807,\n",
              "        5.52355452,  6.59217631,  7.11330099,  2.35705214,  5.38578345,\n",
              "        5.78909095, -1.44262824,  2.89093165, -1.01782225,  4.45752001,\n",
              "        3.5731995 ,  4.94050874, -0.35324363,  1.03837633,  4.62100371,\n",
              "        3.09011406, -1.37445584,  4.22898294,  5.88512011,  6.46472497,\n",
              "        1.85188047,  6.38733014,  3.23156047,  3.87890071,  7.14668131,\n",
              "        3.89533459,  8.2413793 , 13.28660915,  6.00773843,  4.42751616,\n",
              "        6.52948046,  5.81252173, 10.53198447,  1.62542713,  6.48245641,\n",
              "        2.60367243,  8.68712855,  2.90555123,  5.49325342, -2.16112763,\n",
              "        6.01208449,  1.91905114,  2.42910535,  5.14113156,  4.05831472,\n",
              "        8.18959128,  1.06968843,  4.9020174 , -1.44126559,  6.81878366,\n",
              "        7.29413761,  6.55796713,  4.32057896,  6.31863316,  8.15145801,\n",
              "        4.43806708,  6.798836  ,  4.73790268,  1.35931059,  2.18695784,\n",
              "        3.19582816,  4.36284663,  1.32323628,  7.80285974,  4.63289437,\n",
              "        6.93738338,  3.93564846,  8.7702281 ,  2.95668739, -1.16406515,\n",
              "       -0.25328619,  9.32506814,  6.31790712,  3.03371675,  1.96815411,\n",
              "        7.38837202,  6.04849839,  3.90954986,  5.94393398,  3.31025934,\n",
              "        2.97738364, 10.25028249,  5.00922143, -1.31909718,  3.09927455,\n",
              "        0.05038275,  0.60790774,  7.52417733,  3.88028776,  7.15250052,\n",
              "        7.13619555,  2.67026265,  0.92986592,  5.11134483,  9.78555269,\n",
              "        7.86619215,  8.25703847,  5.92617415,  3.27439921,  8.70999846,\n",
              "        0.18447662,  5.87026604,  6.39434792,  6.31076325,  8.49454983,\n",
              "        4.50969258,  1.98241893, 13.59879999,  4.04177993,  2.78764025,\n",
              "        6.67359087,  6.35137686,  8.23392722,  4.44979996, 11.20417153,\n",
              "        2.10400668,  5.97289299,  1.69788035,  0.17847418,  1.41638262,\n",
              "        4.46846209,  2.98711231,  2.59671164, 11.0471716 , -0.47183666,\n",
              "        5.86440065,  4.50994307,  3.43266407,  6.17508189, -0.80179585,\n",
              "        7.22835781,  7.11502393,  2.96138888,  5.86469268,  6.51015571,\n",
              "       14.55550921, -1.21669538,  5.02068442,  2.87337164,  4.05859344,\n",
              "        3.61493001,  3.90931464,  5.53573157,  2.16572745,  3.53321842,\n",
              "        2.05087867,  6.08897932,  1.20099566,  1.55594446,  4.41736981,\n",
              "        6.72298213,  3.31055664,  3.81140639, -1.53139942,  6.89474346,\n",
              "        2.43873182,  3.55294208,  9.08597859,  9.15119734,  8.44082899,\n",
              "        1.28158688,  6.29633679,  5.94620421,  3.125532  ,  8.29468122,\n",
              "        5.18897128,  6.61959491,  6.13388239,  3.26664297,  2.08711773,\n",
              "        3.84175047,  0.05542124,  2.3581139 ,  2.27077754,  7.91163466,\n",
              "        4.84423885,  7.48901857,  6.23496443,  3.48429835,  8.69582897,\n",
              "        0.91004505,  5.87442096,  5.09556229,  4.85560563,  9.58324327,\n",
              "        4.2925248 ,  6.89184812,  6.4635912 ,  5.03771269,  4.08866854,\n",
              "        6.6784703 ,  6.83635516,  3.72848589,  4.71758577,  2.36535194,\n",
              "        8.06353033,  7.2169671 ,  6.14285369,  1.37222522,  8.01722523,\n",
              "        3.52581758,  2.12760637,  4.26253738,  5.61302099,  5.16514301,\n",
              "        4.53945376,  6.44890099,  2.01226436, -0.22265741, 10.36048211,\n",
              "        0.02258291,  5.09829252,  9.96399531,  6.7783027 ,  1.84415128,\n",
              "        4.33383459,  6.28964838,  5.27303504, -0.61588531,  2.18226064,\n",
              "        4.79652816,  7.1686514 ,  5.3357205 ,  3.27323964, 10.71536453,\n",
              "        2.93503767,  8.51908881,  4.34993897,  1.85054896,  3.41033763,\n",
              "        1.50780287,  9.37993501,  2.6291232 ,  6.63482891,  6.62582503,\n",
              "        2.34193416,  2.76600798,  5.95964113,  2.35696682,  7.86810957,\n",
              "        8.37771831,  8.63605615,  4.00509409,  2.11432422,  6.869051  ,\n",
              "        5.66826165, -2.17309504,  4.47170541,  7.81574162,  9.54154661,\n",
              "        3.71007866,  3.00244937,  8.66744859,  6.24079247,  2.44883332,\n",
              "        1.62764867, 11.69102628,  6.55665861,  4.9043521 ,  1.50187564,\n",
              "        5.8091018 ,  1.15369158,  3.40607933,  6.78736772,  4.24374232,\n",
              "        5.21816405,  8.76163577,  7.67539432,  3.01665792,  3.77625546,\n",
              "        8.32154382,  2.79746542,  6.49963006,  7.46441298,  4.17305442,\n",
              "        2.62173487,  3.80983644,  8.98213421,  3.07610337,  6.94480806,\n",
              "        5.38037756,  6.04247767,  6.65000514,  6.94909122,  3.8107235 ,\n",
              "        4.473406  ,  4.78567856,  1.76423163,  6.40356917,  4.77377055,\n",
              "        7.46856441,  9.51805542,  6.57267731,  2.57251882,  5.55784904,\n",
              "        5.41060979,  7.13480478, -0.3347371 ,  4.42831455,  4.58001036,\n",
              "        3.08041025,  7.02813482,  6.15364558, -0.91780018,  5.20920953,\n",
              "        9.54055958,  4.90366233,  3.62041277,  5.63955497,  6.65823531,\n",
              "        4.86565689, 10.55227035,  8.29534711,  2.51760778,  0.25507712,\n",
              "       -0.75866304,  4.34634039,  4.36452016,  2.56149802,  4.35559408,\n",
              "        5.28099778,  7.22750198,  6.28413374,  1.72524756,  5.13981997,\n",
              "        4.64034331,  6.56119724,  9.18944465,  6.12690476,  9.19704742,\n",
              "        2.79388853,  8.02174101,  2.07080425,  4.78218096, 11.09197254,\n",
              "        4.7342184 ,  7.37394255, 10.59875983,  2.41281362,  5.02435117,\n",
              "        3.35286608,  7.17898542,  2.93535451,  1.17121174,  5.9123823 ,\n",
              "       11.45596609, 10.6709074 ,  8.34471222,  5.51694763,  2.99383639,\n",
              "        3.40347801,  4.84246181,  2.49674301,  6.47542311,  5.17394963,\n",
              "        5.9531951 ,  1.85917937,  7.06155376])"
            ]
          },
          "metadata": {},
          "execution_count": 258
        }
      ]
    },
    {
      "cell_type": "code",
      "source": [
        "np.histogram(arr_rand,bins = 10)"
      ],
      "metadata": {
        "colab": {
          "base_uri": "https://localhost:8080/"
        },
        "id": "YuGtLhJ5-3Sp",
        "outputId": "d54f55bd-d941-4405-f21f-21e6d1d60a28"
      },
      "execution_count": 239,
      "outputs": [
        {
          "output_type": "execute_result",
          "data": {
            "text/plain": [
              "(array([  3,  12,  41,  63, 109, 140,  81,  33,  14,   4]),\n",
              " array([-4.60934752, -2.73493603, -0.86052453,  1.01388696,  2.88829845,\n",
              "         4.76270995,  6.63712144,  8.51153293, 10.38594443, 12.26035592,\n",
              "        14.13476741]))"
            ]
          },
          "metadata": {},
          "execution_count": 239
        }
      ]
    },
    {
      "cell_type": "code",
      "source": [
        "arr_rand"
      ],
      "metadata": {
        "colab": {
          "base_uri": "https://localhost:8080/"
        },
        "id": "cO_FgSHp_Ybz",
        "outputId": "92b44b57-a808-4d62-de5c-d92080dd557d"
      },
      "execution_count": 244,
      "outputs": [
        {
          "output_type": "execute_result",
          "data": {
            "text/plain": [
              "array([ 4.74289452,  6.70214809,  0.93400277,  5.54138423,  4.9831413 ,\n",
              "        6.54134115,  5.82318834, 12.47602379,  4.76901259,  1.54439575,\n",
              "        4.41625764,  3.54149867,  4.32231935, -0.93685779,  6.65546803,\n",
              "        2.51126264,  7.64755292, -0.69310422,  2.06405165,  2.46598556,\n",
              "        1.95916158,  4.9295047 ,  8.41376092,  4.49172102,  4.85222835,\n",
              "        2.74868218,  5.60665771,  6.24346607,  1.56508042,  6.715769  ,\n",
              "        7.57469833,  8.55955002,  6.07195215,  3.95880475,  3.65145255,\n",
              "        2.78244377,  4.16607962,  3.79530285,  9.64627825, -0.44385164,\n",
              "        5.76129792,  2.73842746,  5.84886511,  5.38355704, 11.42704248,\n",
              "        2.44173731,  3.52474258,  4.75598007,  5.51512855, 11.9601899 ])"
            ]
          },
          "metadata": {},
          "execution_count": 244
        }
      ]
    },
    {
      "cell_type": "code",
      "source": [
        "arr_rand[1]"
      ],
      "metadata": {
        "colab": {
          "base_uri": "https://localhost:8080/"
        },
        "id": "LFSAlEDU_Ygc",
        "outputId": "d426980e-38f7-40d0-87e1-8b6c4558a7d7"
      },
      "execution_count": 260,
      "outputs": [
        {
          "output_type": "execute_result",
          "data": {
            "text/plain": [
              "6.823943389030932"
            ]
          },
          "metadata": {},
          "execution_count": 260
        }
      ]
    },
    {
      "cell_type": "code",
      "source": [
        "arr_rand[34:19:-2]"
      ],
      "metadata": {
        "colab": {
          "base_uri": "https://localhost:8080/"
        },
        "id": "9FNtBUBa_Yjb",
        "outputId": "a7210f8c-c2e8-491e-e9ce-d204bfad9bda"
      },
      "execution_count": 267,
      "outputs": [
        {
          "output_type": "execute_result",
          "data": {
            "text/plain": [
              "array([ 1.4991576 ,  6.57050083, -1.35247662,  6.00593057,  2.5257775 ,\n",
              "        5.41998038,  6.0959287 ,  4.86641669])"
            ]
          },
          "metadata": {},
          "execution_count": 267
        }
      ]
    },
    {
      "cell_type": "code",
      "source": [
        "arr_rand[20:35]"
      ],
      "metadata": {
        "colab": {
          "base_uri": "https://localhost:8080/"
        },
        "id": "oUX18yff_Yl4",
        "outputId": "39d4d10a-edcb-4630-e167-d49d99147748"
      },
      "execution_count": 265,
      "outputs": [
        {
          "output_type": "execute_result",
          "data": {
            "text/plain": [
              "array([ 4.86641669,  6.05407056,  6.0959287 ,  7.08916029,  5.41998038,\n",
              "        2.58803104,  2.5257775 ,  4.58275625,  6.00593057,  3.87681042,\n",
              "       -1.35247662,  2.46756   ,  6.57050083,  2.88168082,  1.4991576 ])"
            ]
          },
          "metadata": {},
          "execution_count": 265
        }
      ]
    },
    {
      "cell_type": "code",
      "source": [
        "arr_3d = np.random.normal(5,3,size=(3,3,2))"
      ],
      "metadata": {
        "id": "XmrVtYdg_YqC"
      },
      "execution_count": 272,
      "outputs": []
    },
    {
      "cell_type": "code",
      "source": [
        "arr_3d[1,:,1] = arr1"
      ],
      "metadata": {
        "id": "YrURgZxiAtT3"
      },
      "execution_count": 281,
      "outputs": []
    },
    {
      "cell_type": "code",
      "source": [
        "arr_3d"
      ],
      "metadata": {
        "colab": {
          "base_uri": "https://localhost:8080/"
        },
        "id": "v183SNu5AtcO",
        "outputId": "bea34478-f2d9-4999-93a6-4196cd1765cc"
      },
      "execution_count": 282,
      "outputs": [
        {
          "output_type": "execute_result",
          "data": {
            "text/plain": [
              "array([[[4.68669904, 2.20214705],\n",
              "        [5.65993666, 6.64304535],\n",
              "        [8.91502047, 4.73841584]],\n",
              "\n",
              "       [[5.0924833 , 1.        ],\n",
              "        [6.22734647, 1.        ],\n",
              "        [2.18327483, 1.        ]],\n",
              "\n",
              "       [[7.32734848, 3.38746576],\n",
              "        [1.07322816, 6.62519768],\n",
              "        [3.57321074, 3.03265801]]])"
            ]
          },
          "metadata": {},
          "execution_count": 282
        }
      ]
    },
    {
      "cell_type": "code",
      "source": [
        "arr_3d.shape"
      ],
      "metadata": {
        "colab": {
          "base_uri": "https://localhost:8080/"
        },
        "id": "XQikyQjxAtfE",
        "outputId": "7f331b6c-5788-4486-bc31-4b705f1fdd2b"
      },
      "execution_count": 284,
      "outputs": [
        {
          "output_type": "execute_result",
          "data": {
            "text/plain": [
              "(3, 3, 2)"
            ]
          },
          "metadata": {},
          "execution_count": 284
        }
      ]
    },
    {
      "cell_type": "code",
      "source": [
        "from matplotlib import pyplot as plt"
      ],
      "metadata": {
        "id": "KssBWrUM_Ive"
      },
      "execution_count": 240,
      "outputs": []
    },
    {
      "cell_type": "code",
      "source": [
        "plt.hist(arr_rand)"
      ],
      "metadata": {
        "colab": {
          "base_uri": "https://localhost:8080/",
          "height": 352
        },
        "id": "perR-RlC_RQ5",
        "outputId": "71a10e84-c3f6-41e3-a03e-a47d4bc36d8c"
      },
      "execution_count": 241,
      "outputs": [
        {
          "output_type": "execute_result",
          "data": {
            "text/plain": [
              "(array([  3.,  12.,  41.,  63., 109., 140.,  81.,  33.,  14.,   4.]),\n",
              " array([-4.60934752, -2.73493603, -0.86052453,  1.01388696,  2.88829845,\n",
              "         4.76270995,  6.63712144,  8.51153293, 10.38594443, 12.26035592,\n",
              "        14.13476741]),\n",
              " <a list of 10 Patch objects>)"
            ]
          },
          "metadata": {},
          "execution_count": 241
        },
        {
          "output_type": "display_data",
          "data": {
            "text/plain": [
              "<Figure size 432x288 with 1 Axes>"
            ],
            "image/png": "[encoded data removed]"
          },
          "metadata": {
            "needs_background": "light"
          }
        }
      ]
    },
    {
      "cell_type": "code",
      "source": [
        "x = np.linspace(0,np.pi,100)"
      ],
      "metadata": {
        "id": "9_U5_nEN_Tfm"
      },
      "execution_count": 285,
      "outputs": []
    },
    {
      "cell_type": "code",
      "source": [
        "y1 = np.sin(20*x)\n",
        "y2 = np.sin(14*x)"
      ],
      "metadata": {
        "id": "135sCN7fB9Ot"
      },
      "execution_count": 297,
      "outputs": []
    },
    {
      "cell_type": "code",
      "source": [
        "plt.figure(figsize=(18,6))\n",
        "plt.plot(x,y1, label = \"$\\sin(20*x)$\", c=\"b\")\n",
        "plt.plot(x,y2,label = \"$\\sin(14*x)$\", c=\"y\")\n",
        "plt.scatter([0,1,2,3],[-1, 0.75,-0.25,0.5], c=\"r\", s=100, label=\"temperatura\")\n",
        "plt.text(1.5,0.5, \"Esto es importante\")\n",
        "plt.title(\"Diez períodos de un seno\")\n",
        "plt.xlabel(\"x\")\n",
        "plt.ylabel(\"y\")\n",
        "plt.legend()\n",
        "plt.savefig(\"senos.png\")\n",
        "plt.show()\n",
        "plt.close()"
      ],
      "metadata": {
        "colab": {
          "base_uri": "https://localhost:8080/",
          "height": 554
        },
        "id": "cgX3O37bB9gB",
        "outputId": "4e17d0e1-f04c-4433-bf4f-52d6227c18a7"
      },
      "execution_count": 311,
      "outputs": [
        {
          "output_type": "error",
          "ename": "ImportError",
          "evalue": "ignored",
          "traceback": [
            "\u001b[0;31m---------------------------------------------------------------------------\u001b[0m",
            "\u001b[0;31mImportError\u001b[0m                               Traceback (most recent call last)",
            "\u001b[0;32m<ipython-input-311-9e54e2874dd5>\u001b[0m in \u001b[0;36m<module>\u001b[0;34m\u001b[0m\n\u001b[0;32m----> 1\u001b[0;31m \u001b[0mget_ipython\u001b[0m\u001b[0;34m(\u001b[0m\u001b[0;34m)\u001b[0m\u001b[0;34m.\u001b[0m\u001b[0mrun_line_magic\u001b[0m\u001b[0;34m(\u001b[0m\u001b[0;34m'matplotlib'\u001b[0m\u001b[0;34m,\u001b[0m \u001b[0;34m'qt'\u001b[0m\u001b[0;34m)\u001b[0m\u001b[0;34m\u001b[0m\u001b[0;34m\u001b[0m\u001b[0m\n\u001b[0m\u001b[1;32m      2\u001b[0m \u001b[0mplt\u001b[0m\u001b[0;34m.\u001b[0m\u001b[0mfigure\u001b[0m\u001b[0;34m(\u001b[0m\u001b[0mfigsize\u001b[0m\u001b[0;34m=\u001b[0m\u001b[0;34m(\u001b[0m\u001b[0;36m18\u001b[0m\u001b[0;34m,\u001b[0m\u001b[0;36m6\u001b[0m\u001b[0;34m)\u001b[0m\u001b[0;34m)\u001b[0m\u001b[0;34m\u001b[0m\u001b[0;34m\u001b[0m\u001b[0m\n\u001b[1;32m      3\u001b[0m \u001b[0mplt\u001b[0m\u001b[0;34m.\u001b[0m\u001b[0mplot\u001b[0m\u001b[0;34m(\u001b[0m\u001b[0mx\u001b[0m\u001b[0;34m,\u001b[0m\u001b[0my1\u001b[0m\u001b[0;34m,\u001b[0m \u001b[0mlabel\u001b[0m \u001b[0;34m=\u001b[0m \u001b[0;34m\"$\\sin(20*x)$\"\u001b[0m\u001b[0;34m,\u001b[0m \u001b[0mc\u001b[0m\u001b[0;34m=\u001b[0m\u001b[0;34m\"b\"\u001b[0m\u001b[0;34m)\u001b[0m\u001b[0;34m\u001b[0m\u001b[0;34m\u001b[0m\u001b[0m\n\u001b[1;32m      4\u001b[0m \u001b[0mplt\u001b[0m\u001b[0;34m.\u001b[0m\u001b[0mplot\u001b[0m\u001b[0;34m(\u001b[0m\u001b[0mx\u001b[0m\u001b[0;34m,\u001b[0m\u001b[0my2\u001b[0m\u001b[0;34m,\u001b[0m\u001b[0mlabel\u001b[0m \u001b[0;34m=\u001b[0m \u001b[0;34m\"$\\sin(14*x)$\"\u001b[0m\u001b[0;34m,\u001b[0m \u001b[0mc\u001b[0m\u001b[0;34m=\u001b[0m\u001b[0;34m\"y\"\u001b[0m\u001b[0;34m)\u001b[0m\u001b[0;34m\u001b[0m\u001b[0;34m\u001b[0m\u001b[0m\n\u001b[1;32m      5\u001b[0m \u001b[0mplt\u001b[0m\u001b[0;34m.\u001b[0m\u001b[0mscatter\u001b[0m\u001b[0;34m(\u001b[0m\u001b[0;34m[\u001b[0m\u001b[0;36m0\u001b[0m\u001b[0;34m,\u001b[0m\u001b[0;36m1\u001b[0m\u001b[0;34m,\u001b[0m\u001b[0;36m2\u001b[0m\u001b[0;34m,\u001b[0m\u001b[0;36m3\u001b[0m\u001b[0;34m]\u001b[0m\u001b[0;34m,\u001b[0m\u001b[0;34m[\u001b[0m\u001b[0;34m-\u001b[0m\u001b[0;36m1\u001b[0m\u001b[0;34m,\u001b[0m \u001b[0;36m0.75\u001b[0m\u001b[0;34m,\u001b[0m\u001b[0;34m-\u001b[0m\u001b[0;36m0.25\u001b[0m\u001b[0;34m,\u001b[0m\u001b[0;36m0.5\u001b[0m\u001b[0;34m]\u001b[0m\u001b[0;34m,\u001b[0m \u001b[0mc\u001b[0m\u001b[0;34m=\u001b[0m\u001b[0;34m\"r\"\u001b[0m\u001b[0;34m,\u001b[0m \u001b[0ms\u001b[0m\u001b[0;34m=\u001b[0m\u001b[0;36m100\u001b[0m\u001b[0;34m,\u001b[0m \u001b[0mlabel\u001b[0m\u001b[0;34m=\u001b[0m\u001b[0;34m\"temperatura\"\u001b[0m\u001b[0;34m)\u001b[0m\u001b[0;34m\u001b[0m\u001b[0;34m\u001b[0m\u001b[0m\n",
            "\u001b[0;32m/usr/local/lib/python3.7/dist-packages/IPython/core/interactiveshell.py\u001b[0m in \u001b[0;36mrun_line_magic\u001b[0;34m(self, magic_name, line, _stack_depth)\u001b[0m\n\u001b[1;32m   2312\u001b[0m                 \u001b[0mkwargs\u001b[0m\u001b[0;34m[\u001b[0m\u001b[0;34m'local_ns'\u001b[0m\u001b[0;34m]\u001b[0m \u001b[0;34m=\u001b[0m \u001b[0msys\u001b[0m\u001b[0;34m.\u001b[0m\u001b[0m_getframe\u001b[0m\u001b[0;34m(\u001b[0m\u001b[0mstack_depth\u001b[0m\u001b[0;34m)\u001b[0m\u001b[0;34m.\u001b[0m\u001b[0mf_locals\u001b[0m\u001b[0;34m\u001b[0m\u001b[0;34m\u001b[0m\u001b[0m\n\u001b[1;32m   2313\u001b[0m             \u001b[0;32mwith\u001b[0m \u001b[0mself\u001b[0m\u001b[0;34m.\u001b[0m\u001b[0mbuiltin_trap\u001b[0m\u001b[0;34m:\u001b[0m\u001b[0;34m\u001b[0m\u001b[0;34m\u001b[0m\u001b[0m\n\u001b[0;32m-> 2314\u001b[0;31m                 \u001b[0mresult\u001b[0m \u001b[0;34m=\u001b[0m \u001b[0mfn\u001b[0m\u001b[0;34m(\u001b[0m\u001b[0;34m*\u001b[0m\u001b[0margs\u001b[0m\u001b[0;34m,\u001b[0m \u001b[0;34m**\u001b[0m\u001b[0mkwargs\u001b[0m\u001b[0;34m)\u001b[0m\u001b[0;34m\u001b[0m\u001b[0;34m\u001b[0m\u001b[0m\n\u001b[0m\u001b[1;32m   2315\u001b[0m             \u001b[0;32mreturn\u001b[0m \u001b[0mresult\u001b[0m\u001b[0;34m\u001b[0m\u001b[0;34m\u001b[0m\u001b[0m\n\u001b[1;32m   2316\u001b[0m \u001b[0;34m\u001b[0m\u001b[0m\n",
            "\u001b[0;32m<decorator-gen-101>\u001b[0m in \u001b[0;36mmatplotlib\u001b[0;34m(self, line)\u001b[0m\n",
            "\u001b[0;32m/usr/local/lib/python3.7/dist-packages/IPython/core/magic.py\u001b[0m in \u001b[0;36m<lambda>\u001b[0;34m(f, *a, **k)\u001b[0m\n\u001b[1;32m    185\u001b[0m     \u001b[0;31m# but it's overkill for just that one bit of state.\u001b[0m\u001b[0;34m\u001b[0m\u001b[0;34m\u001b[0m\u001b[0;34m\u001b[0m\u001b[0m\n\u001b[1;32m    186\u001b[0m     \u001b[0;32mdef\u001b[0m \u001b[0mmagic_deco\u001b[0m\u001b[0;34m(\u001b[0m\u001b[0marg\u001b[0m\u001b[0;34m)\u001b[0m\u001b[0;34m:\u001b[0m\u001b[0;34m\u001b[0m\u001b[0;34m\u001b[0m\u001b[0m\n\u001b[0;32m--> 187\u001b[0;31m         \u001b[0mcall\u001b[0m \u001b[0;34m=\u001b[0m \u001b[0;32mlambda\u001b[0m \u001b[0mf\u001b[0m\u001b[0;34m,\u001b[0m \u001b[0;34m*\u001b[0m\u001b[0ma\u001b[0m\u001b[0;34m,\u001b[0m \u001b[0;34m**\u001b[0m\u001b[0mk\u001b[0m\u001b[0;34m:\u001b[0m \u001b[0mf\u001b[0m\u001b[0;34m(\u001b[0m\u001b[0;34m*\u001b[0m\u001b[0ma\u001b[0m\u001b[0;34m,\u001b[0m \u001b[0;34m**\u001b[0m\u001b[0mk\u001b[0m\u001b[0;34m)\u001b[0m\u001b[0;34m\u001b[0m\u001b[0;34m\u001b[0m\u001b[0m\n\u001b[0m\u001b[1;32m    188\u001b[0m \u001b[0;34m\u001b[0m\u001b[0m\n\u001b[1;32m    189\u001b[0m         \u001b[0;32mif\u001b[0m \u001b[0mcallable\u001b[0m\u001b[0;34m(\u001b[0m\u001b[0marg\u001b[0m\u001b[0;34m)\u001b[0m\u001b[0;34m:\u001b[0m\u001b[0;34m\u001b[0m\u001b[0;34m\u001b[0m\u001b[0m\n",
            "\u001b[0;32m/usr/local/lib/python3.7/dist-packages/IPython/core/magics/pylab.py\u001b[0m in \u001b[0;36mmatplotlib\u001b[0;34m(self, line)\u001b[0m\n\u001b[1;32m     97\u001b[0m             \u001b[0mprint\u001b[0m\u001b[0;34m(\u001b[0m\u001b[0;34m\"Available matplotlib backends: %s\"\u001b[0m \u001b[0;34m%\u001b[0m \u001b[0mbackends_list\u001b[0m\u001b[0;34m)\u001b[0m\u001b[0;34m\u001b[0m\u001b[0;34m\u001b[0m\u001b[0m\n\u001b[1;32m     98\u001b[0m         \u001b[0;32melse\u001b[0m\u001b[0;34m:\u001b[0m\u001b[0;34m\u001b[0m\u001b[0;34m\u001b[0m\u001b[0m\n\u001b[0;32m---> 99\u001b[0;31m             \u001b[0mgui\u001b[0m\u001b[0;34m,\u001b[0m \u001b[0mbackend\u001b[0m \u001b[0;34m=\u001b[0m \u001b[0mself\u001b[0m\u001b[0;34m.\u001b[0m\u001b[0mshell\u001b[0m\u001b[0;34m.\u001b[0m\u001b[0menable_matplotlib\u001b[0m\u001b[0;34m(\u001b[0m\u001b[0margs\u001b[0m\u001b[0;34m.\u001b[0m\u001b[0mgui\u001b[0m\u001b[0;34m.\u001b[0m\u001b[0mlower\u001b[0m\u001b[0;34m(\u001b[0m\u001b[0;34m)\u001b[0m \u001b[0;32mif\u001b[0m \u001b[0misinstance\u001b[0m\u001b[0;34m(\u001b[0m\u001b[0margs\u001b[0m\u001b[0;34m.\u001b[0m\u001b[0mgui\u001b[0m\u001b[0;34m,\u001b[0m \u001b[0mstr\u001b[0m\u001b[0;34m)\u001b[0m \u001b[0;32melse\u001b[0m \u001b[0margs\u001b[0m\u001b[0;34m.\u001b[0m\u001b[0mgui\u001b[0m\u001b[0;34m)\u001b[0m\u001b[0;34m\u001b[0m\u001b[0;34m\u001b[0m\u001b[0m\n\u001b[0m\u001b[1;32m    100\u001b[0m             \u001b[0mself\u001b[0m\u001b[0;34m.\u001b[0m\u001b[0m_show_matplotlib_backend\u001b[0m\u001b[0;34m(\u001b[0m\u001b[0margs\u001b[0m\u001b[0;34m.\u001b[0m\u001b[0mgui\u001b[0m\u001b[0;34m,\u001b[0m \u001b[0mbackend\u001b[0m\u001b[0;34m)\u001b[0m\u001b[0;34m\u001b[0m\u001b[0;34m\u001b[0m\u001b[0m\n\u001b[1;32m    101\u001b[0m \u001b[0;34m\u001b[0m\u001b[0m\n",
            "\u001b[0;32m/usr/local/lib/python3.7/dist-packages/IPython/core/interactiveshell.py\u001b[0m in \u001b[0;36menable_matplotlib\u001b[0;34m(self, gui)\u001b[0m\n\u001b[1;32m   3412\u001b[0m                 \u001b[0mgui\u001b[0m\u001b[0;34m,\u001b[0m \u001b[0mbackend\u001b[0m \u001b[0;34m=\u001b[0m \u001b[0mpt\u001b[0m\u001b[0;34m.\u001b[0m\u001b[0mfind_gui_and_backend\u001b[0m\u001b[0;34m(\u001b[0m\u001b[0mself\u001b[0m\u001b[0;34m.\u001b[0m\u001b[0mpylab_gui_select\u001b[0m\u001b[0;34m)\u001b[0m\u001b[0;34m\u001b[0m\u001b[0;34m\u001b[0m\u001b[0m\n\u001b[1;32m   3413\u001b[0m \u001b[0;34m\u001b[0m\u001b[0m\n\u001b[0;32m-> 3414\u001b[0;31m         \u001b[0mpt\u001b[0m\u001b[0;34m.\u001b[0m\u001b[0mactivate_matplotlib\u001b[0m\u001b[0;34m(\u001b[0m\u001b[0mbackend\u001b[0m\u001b[0;34m)\u001b[0m\u001b[0;34m\u001b[0m\u001b[0;34m\u001b[0m\u001b[0m\n\u001b[0m\u001b[1;32m   3415\u001b[0m         \u001b[0mpt\u001b[0m\u001b[0;34m.\u001b[0m\u001b[0mconfigure_inline_support\u001b[0m\u001b[0;34m(\u001b[0m\u001b[0mself\u001b[0m\u001b[0;34m,\u001b[0m \u001b[0mbackend\u001b[0m\u001b[0;34m)\u001b[0m\u001b[0;34m\u001b[0m\u001b[0;34m\u001b[0m\u001b[0m\n\u001b[1;32m   3416\u001b[0m \u001b[0;34m\u001b[0m\u001b[0m\n",
            "\u001b[0;32m/usr/local/lib/python3.7/dist-packages/IPython/core/pylabtools.py\u001b[0m in \u001b[0;36mactivate_matplotlib\u001b[0;34m(backend)\u001b[0m\n\u001b[1;32m    312\u001b[0m \u001b[0;34m\u001b[0m\u001b[0m\n\u001b[1;32m    313\u001b[0m     \u001b[0;32mimport\u001b[0m \u001b[0mmatplotlib\u001b[0m\u001b[0;34m.\u001b[0m\u001b[0mpyplot\u001b[0m\u001b[0;34m\u001b[0m\u001b[0;34m\u001b[0m\u001b[0m\n\u001b[0;32m--> 314\u001b[0;31m     \u001b[0mmatplotlib\u001b[0m\u001b[0;34m.\u001b[0m\u001b[0mpyplot\u001b[0m\u001b[0;34m.\u001b[0m\u001b[0mswitch_backend\u001b[0m\u001b[0;34m(\u001b[0m\u001b[0mbackend\u001b[0m\u001b[0;34m)\u001b[0m\u001b[0;34m\u001b[0m\u001b[0;34m\u001b[0m\u001b[0m\n\u001b[0m\u001b[1;32m    315\u001b[0m \u001b[0;34m\u001b[0m\u001b[0m\n\u001b[1;32m    316\u001b[0m     \u001b[0;31m# This must be imported last in the matplotlib series, after\u001b[0m\u001b[0;34m\u001b[0m\u001b[0;34m\u001b[0m\u001b[0;34m\u001b[0m\u001b[0m\n",
            "\u001b[0;32m/usr/local/lib/python3.7/dist-packages/matplotlib/pyplot.py\u001b[0m in \u001b[0;36mswitch_backend\u001b[0;34m(newbackend)\u001b[0m\n\u001b[1;32m    219\u001b[0m         else \"matplotlib.backends.backend_{}\".format(newbackend.lower()))\n\u001b[1;32m    220\u001b[0m \u001b[0;34m\u001b[0m\u001b[0m\n\u001b[0;32m--> 221\u001b[0;31m     \u001b[0mbackend_mod\u001b[0m \u001b[0;34m=\u001b[0m \u001b[0mimportlib\u001b[0m\u001b[0;34m.\u001b[0m\u001b[0mimport_module\u001b[0m\u001b[0;34m(\u001b[0m\u001b[0mbackend_name\u001b[0m\u001b[0;34m)\u001b[0m\u001b[0;34m\u001b[0m\u001b[0;34m\u001b[0m\u001b[0m\n\u001b[0m\u001b[1;32m    222\u001b[0m     Backend = type(\n\u001b[1;32m    223\u001b[0m         \"Backend\", (matplotlib.backends._Backend,), vars(backend_mod))\n",
            "\u001b[0;32m/usr/lib/python3.7/importlib/__init__.py\u001b[0m in \u001b[0;36mimport_module\u001b[0;34m(name, package)\u001b[0m\n\u001b[1;32m    125\u001b[0m                 \u001b[0;32mbreak\u001b[0m\u001b[0;34m\u001b[0m\u001b[0;34m\u001b[0m\u001b[0m\n\u001b[1;32m    126\u001b[0m             \u001b[0mlevel\u001b[0m \u001b[0;34m+=\u001b[0m \u001b[0;36m1\u001b[0m\u001b[0;34m\u001b[0m\u001b[0;34m\u001b[0m\u001b[0m\n\u001b[0;32m--> 127\u001b[0;31m     \u001b[0;32mreturn\u001b[0m \u001b[0m_bootstrap\u001b[0m\u001b[0;34m.\u001b[0m\u001b[0m_gcd_import\u001b[0m\u001b[0;34m(\u001b[0m\u001b[0mname\u001b[0m\u001b[0;34m[\u001b[0m\u001b[0mlevel\u001b[0m\u001b[0;34m:\u001b[0m\u001b[0;34m]\u001b[0m\u001b[0;34m,\u001b[0m \u001b[0mpackage\u001b[0m\u001b[0;34m,\u001b[0m \u001b[0mlevel\u001b[0m\u001b[0;34m)\u001b[0m\u001b[0;34m\u001b[0m\u001b[0;34m\u001b[0m\u001b[0m\n\u001b[0m\u001b[1;32m    128\u001b[0m \u001b[0;34m\u001b[0m\u001b[0m\n\u001b[1;32m    129\u001b[0m \u001b[0;34m\u001b[0m\u001b[0m\n",
            "\u001b[0;32m/usr/lib/python3.7/importlib/_bootstrap.py\u001b[0m in \u001b[0;36m_gcd_import\u001b[0;34m(name, package, level)\u001b[0m\n",
            "\u001b[0;32m/usr/lib/python3.7/importlib/_bootstrap.py\u001b[0m in \u001b[0;36m_find_and_load\u001b[0;34m(name, import_)\u001b[0m\n",
            "\u001b[0;32m/usr/lib/python3.7/importlib/_bootstrap.py\u001b[0m in \u001b[0;36m_find_and_load_unlocked\u001b[0;34m(name, import_)\u001b[0m\n",
            "\u001b[0;32m/usr/lib/python3.7/importlib/_bootstrap.py\u001b[0m in \u001b[0;36m_load_unlocked\u001b[0;34m(spec)\u001b[0m\n",
            "\u001b[0;32m/usr/lib/python3.7/importlib/_bootstrap_external.py\u001b[0m in \u001b[0;36mexec_module\u001b[0;34m(self, module)\u001b[0m\n",
            "\u001b[0;32m/usr/lib/python3.7/importlib/_bootstrap.py\u001b[0m in \u001b[0;36m_call_with_frames_removed\u001b[0;34m(f, *args, **kwds)\u001b[0m\n",
            "\u001b[0;32m/usr/local/lib/python3.7/dist-packages/matplotlib/backends/backend_qt5agg.py\u001b[0m in \u001b[0;36m<module>\u001b[0;34m\u001b[0m\n\u001b[1;32m      9\u001b[0m \u001b[0;32mfrom\u001b[0m \u001b[0;34m.\u001b[0m\u001b[0;34m.\u001b[0m \u001b[0;32mimport\u001b[0m \u001b[0mcbook\u001b[0m\u001b[0;34m\u001b[0m\u001b[0;34m\u001b[0m\u001b[0m\n\u001b[1;32m     10\u001b[0m \u001b[0;32mfrom\u001b[0m \u001b[0;34m.\u001b[0m\u001b[0mbackend_agg\u001b[0m \u001b[0;32mimport\u001b[0m \u001b[0mFigureCanvasAgg\u001b[0m\u001b[0;34m\u001b[0m\u001b[0;34m\u001b[0m\u001b[0m\n\u001b[0;32m---> 11\u001b[0;31m from .backend_qt5 import (\n\u001b[0m\u001b[1;32m     12\u001b[0m     \u001b[0mQtCore\u001b[0m\u001b[0;34m,\u001b[0m \u001b[0mQtGui\u001b[0m\u001b[0;34m,\u001b[0m \u001b[0mQtWidgets\u001b[0m\u001b[0;34m,\u001b[0m \u001b[0m_BackendQT5\u001b[0m\u001b[0;34m,\u001b[0m \u001b[0mFigureCanvasQT\u001b[0m\u001b[0;34m,\u001b[0m \u001b[0mFigureManagerQT\u001b[0m\u001b[0;34m,\u001b[0m\u001b[0;34m\u001b[0m\u001b[0;34m\u001b[0m\u001b[0m\n\u001b[1;32m     13\u001b[0m     NavigationToolbar2QT, backend_version)\n",
            "\u001b[0;32m/usr/local/lib/python3.7/dist-packages/matplotlib/backends/backend_qt5.py\u001b[0m in \u001b[0;36m<module>\u001b[0;34m\u001b[0m\n\u001b[1;32m     13\u001b[0m     \u001b[0m_Backend\u001b[0m\u001b[0;34m,\u001b[0m \u001b[0mFigureCanvasBase\u001b[0m\u001b[0;34m,\u001b[0m \u001b[0mFigureManagerBase\u001b[0m\u001b[0;34m,\u001b[0m \u001b[0mNavigationToolbar2\u001b[0m\u001b[0;34m,\u001b[0m\u001b[0;34m\u001b[0m\u001b[0;34m\u001b[0m\u001b[0m\n\u001b[1;32m     14\u001b[0m     TimerBase, cursors, ToolContainerBase, StatusbarBase, MouseButton)\n\u001b[0;32m---> 15\u001b[0;31m \u001b[0;32mimport\u001b[0m \u001b[0mmatplotlib\u001b[0m\u001b[0;34m.\u001b[0m\u001b[0mbackends\u001b[0m\u001b[0;34m.\u001b[0m\u001b[0mqt_editor\u001b[0m\u001b[0;34m.\u001b[0m\u001b[0mfigureoptions\u001b[0m \u001b[0;32mas\u001b[0m \u001b[0mfigureoptions\u001b[0m\u001b[0;34m\u001b[0m\u001b[0;34m\u001b[0m\u001b[0m\n\u001b[0m\u001b[1;32m     16\u001b[0m \u001b[0;32mfrom\u001b[0m \u001b[0mmatplotlib\u001b[0m\u001b[0;34m.\u001b[0m\u001b[0mbackends\u001b[0m\u001b[0;34m.\u001b[0m\u001b[0mqt_editor\u001b[0m\u001b[0;34m.\u001b[0m\u001b[0mformsubplottool\u001b[0m \u001b[0;32mimport\u001b[0m \u001b[0mUiSubplotTool\u001b[0m\u001b[0;34m\u001b[0m\u001b[0;34m\u001b[0m\u001b[0m\n\u001b[1;32m     17\u001b[0m \u001b[0;32mfrom\u001b[0m \u001b[0mmatplotlib\u001b[0m\u001b[0;34m.\u001b[0m\u001b[0mbackend_managers\u001b[0m \u001b[0;32mimport\u001b[0m \u001b[0mToolManager\u001b[0m\u001b[0;34m\u001b[0m\u001b[0;34m\u001b[0m\u001b[0m\n",
            "\u001b[0;32m/usr/local/lib/python3.7/dist-packages/matplotlib/backends/qt_editor/figureoptions.py\u001b[0m in \u001b[0;36m<module>\u001b[0;34m\u001b[0m\n\u001b[1;32m     10\u001b[0m \u001b[0;32mimport\u001b[0m \u001b[0mmatplotlib\u001b[0m\u001b[0;34m\u001b[0m\u001b[0;34m\u001b[0m\u001b[0m\n\u001b[1;32m     11\u001b[0m \u001b[0;32mfrom\u001b[0m \u001b[0mmatplotlib\u001b[0m \u001b[0;32mimport\u001b[0m \u001b[0mcbook\u001b[0m\u001b[0;34m,\u001b[0m \u001b[0mcm\u001b[0m\u001b[0;34m,\u001b[0m \u001b[0mcolors\u001b[0m \u001b[0;32mas\u001b[0m \u001b[0mmcolors\u001b[0m\u001b[0;34m,\u001b[0m \u001b[0mmarkers\u001b[0m\u001b[0;34m,\u001b[0m \u001b[0mimage\u001b[0m \u001b[0;32mas\u001b[0m \u001b[0mmimage\u001b[0m\u001b[0;34m\u001b[0m\u001b[0;34m\u001b[0m\u001b[0m\n\u001b[0;32m---> 12\u001b[0;31m \u001b[0;32mfrom\u001b[0m \u001b[0mmatplotlib\u001b[0m\u001b[0;34m.\u001b[0m\u001b[0mbackends\u001b[0m\u001b[0;34m.\u001b[0m\u001b[0mqt_compat\u001b[0m \u001b[0;32mimport\u001b[0m \u001b[0mQtGui\u001b[0m\u001b[0;34m\u001b[0m\u001b[0;34m\u001b[0m\u001b[0m\n\u001b[0m\u001b[1;32m     13\u001b[0m \u001b[0;32mfrom\u001b[0m \u001b[0mmatplotlib\u001b[0m\u001b[0;34m.\u001b[0m\u001b[0mbackends\u001b[0m\u001b[0;34m.\u001b[0m\u001b[0mqt_editor\u001b[0m \u001b[0;32mimport\u001b[0m \u001b[0m_formlayout\u001b[0m\u001b[0;34m\u001b[0m\u001b[0;34m\u001b[0m\u001b[0m\n\u001b[1;32m     14\u001b[0m \u001b[0;34m\u001b[0m\u001b[0m\n",
            "\u001b[0;32m/usr/local/lib/python3.7/dist-packages/matplotlib/backends/qt_compat.py\u001b[0m in \u001b[0;36m<module>\u001b[0;34m\u001b[0m\n\u001b[1;32m    166\u001b[0m         \u001b[0;32mbreak\u001b[0m\u001b[0;34m\u001b[0m\u001b[0;34m\u001b[0m\u001b[0m\n\u001b[1;32m    167\u001b[0m     \u001b[0;32melse\u001b[0m\u001b[0;34m:\u001b[0m\u001b[0;34m\u001b[0m\u001b[0;34m\u001b[0m\u001b[0m\n\u001b[0;32m--> 168\u001b[0;31m         \u001b[0;32mraise\u001b[0m \u001b[0mImportError\u001b[0m\u001b[0;34m(\u001b[0m\u001b[0;34m\"Failed to import any qt binding\"\u001b[0m\u001b[0;34m)\u001b[0m\u001b[0;34m\u001b[0m\u001b[0;34m\u001b[0m\u001b[0m\n\u001b[0m\u001b[1;32m    169\u001b[0m \u001b[0;32melse\u001b[0m\u001b[0;34m:\u001b[0m  \u001b[0;31m# We should not get there.\u001b[0m\u001b[0;34m\u001b[0m\u001b[0;34m\u001b[0m\u001b[0m\n\u001b[1;32m    170\u001b[0m     \u001b[0;32mraise\u001b[0m \u001b[0mAssertionError\u001b[0m\u001b[0;34m(\u001b[0m\u001b[0;34m\"Unexpected QT_API: {}\"\u001b[0m\u001b[0;34m.\u001b[0m\u001b[0mformat\u001b[0m\u001b[0;34m(\u001b[0m\u001b[0mQT_API\u001b[0m\u001b[0;34m)\u001b[0m\u001b[0;34m)\u001b[0m\u001b[0;34m\u001b[0m\u001b[0;34m\u001b[0m\u001b[0m\n",
            "\u001b[0;31mImportError\u001b[0m: Failed to import any qt binding",
            "",
            "\u001b[0;31m---------------------------------------------------------------------------\u001b[0;32m\nNOTE: If your import is failing due to a missing package, you can\nmanually install dependencies using either !pip or !apt.\n\nTo view examples of installing some common dependencies, click the\n\"Open Examples\" button below.\n\u001b[0;31m---------------------------------------------------------------------------\u001b[0m\n"
          ],
          "errorDetails": {
            "actions": [
              {
                "action": "open_url",
                "actionText": "Open Examples",
                "url": "/notebooks/snippets/importing_libraries.ipynb"
              }
            ]
          }
        }
      ]
    },
    {
      "cell_type": "code",
      "source": [
        ""
      ],
      "metadata": {
        "id": "rXhPyMb_CTCZ"
      },
      "execution_count": null,
      "outputs": []
    }
  ]
}
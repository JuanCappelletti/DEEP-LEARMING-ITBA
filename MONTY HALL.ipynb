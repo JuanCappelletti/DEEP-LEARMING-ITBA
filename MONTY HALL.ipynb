{
  "cells": [
    {
      "cell_type": "markdown",
      "metadata": {
        "id": "view-in-github",
        "colab_type": "text"
      },
      "source": [
        "<a href=\"https://colab.research.google.com/github/JuanCappelletti/DEEP-LEARMING-ITBA/blob/main/MONTY%20HALL.ipynb\" target=\"_parent\"><img src=\"https://colab.research.google.com/assets/colab-badge.svg\" alt=\"Open In Colab\"/></a>"
      ]
    },
    {
      "cell_type": "markdown",
      "metadata": {
        "id": "LugdhRSj-P7-"
      },
      "source": [
        "# *Problema de monthy Hall.*\n"
      ]
    },
    {
      "cell_type": "markdown",
      "metadata": {
        "id": "HbgFS1hWUet5",
        "tags": []
      },
      "source": [
        "**Declaraciones**\n"
      ]
    },
    {
      "cell_type": "code",
      "execution_count": 89,
      "metadata": {
        "id": "WRlX81Iu-k2T",
        "tags": []
      },
      "outputs": [],
      "source": [
        "import numpy as np  # libreria numpy\n",
        "n=2 # Numero de puertas CREADAS Y A ELEGIR\n",
        "a=100000 # Numero de Simulaciones\n",
        "NCH=np.zeros(2, dtype=int) # Cantidad de aciertos sin cambiar opción [0]= ok, [1]= non\n",
        "CH=np.zeros(2, dtype=int)  # Cantidad de aciertos Cambiando opción [0]= ok, [1]= non\n",
        "PUERTAS=np.zeros(1, dtype=bool)\n",
        "ELEGIDO=np.zeros(1, dtype=bool)\n"
      ]
    },
    {
      "cell_type": "code",
      "execution_count": 90,
      "metadata": {
        "id": "xtDfr0e2-ytD",
        "tags": []
      },
      "outputs": [],
      "source": [
        "def ALEATORIO(arr) :\n",
        "    arr= np.zeros(n, dtype=bool)  # incializo 3 puertas en una array\n",
        "    arr=np.insert(arr,np.random.randint(0,3),True) # insertamos un booleano \"true \" aleatoriamente en caulquiera de las puertas . \n",
        "    return arr"
      ]
    },
    {
      "cell_type": "markdown",
      "metadata": {
        "tags": [],
        "id": "QJfbptF5LKkw"
      },
      "source": [
        "# *Simulación*"
      ]
    },
    {
      "cell_type": "code",
      "execution_count": 95,
      "metadata": {
        "tags": [],
        "id": "GxdLUfuTLKkx",
        "outputId": "6ecf45bd-76ee-4188-a28d-9e5fb181187e",
        "colab": {
          "base_uri": "https://localhost:8080/"
        }
      },
      "outputs": [
        {
          "output_type": "stream",
          "name": "stdout",
          "text": [
            "[ 66255 133745]\n"
          ]
        }
      ],
      "source": [
        "for i in range (a):\n",
        "    PUERTAS=ALEATORIO(PUERTAS)\n",
        "    ELEGIDO=ALEATORIO(ELEGIDO)\n",
        "    if np.nonzero(PUERTAS)==np.nonzero(ELEGIDO):\n",
        "        NCH[0] +=1\n",
        "    else:\n",
        "        NCH[1]+=1\n",
        "print( NCH)       "
      ]
    },
    {
      "cell_type": "code",
      "execution_count": 94,
      "metadata": {
        "tags": [],
        "outputId": "d264d9e2-850d-4297-e153-6f950ee0d0f1",
        "colab": {
          "base_uri": "https://localhost:8080/"
        },
        "id": "BIHD0TBdUBHr"
      },
      "outputs": [
        {
          "output_type": "stream",
          "name": "stdout",
          "text": [
            "[     0 300000]\n"
          ]
        }
      ],
      "source": [
        "Arr_truncado=np.zeros(2, dtype=bool)\n",
        "Arr_truncado=ELEGIDO\n",
        "for i in range (a):    \n",
        "    if np.nonzero(PUERTAS)==np.nonzero(Arr_truncado):\n",
        "        CH[0] +=1\n",
        "    else:\n",
        "        CH[1]+=1\n",
        "print( CH)       "
      ]
    }
  ],
  "metadata": {
    "colab": {
      "provenance": [],
      "toc_visible": true,
      "include_colab_link": true
    },
    "kernelspec": {
      "display_name": "Python 3",
      "language": "python",
      "name": "python3"
    },
    "language_info": {
      "codemirror_mode": {
        "name": "ipython",
        "version": 3
      },
      "file_extension": ".py",
      "mimetype": "text/x-python",
      "name": "python",
      "nbconvert_exporter": "python",
      "pygments_lexer": "ipython3",
      "version": "3.6.13"
    }
  },
  "nbformat": 4,
  "nbformat_minor": 0
}
{
  "cells": [
    {
      "cell_type": "markdown",
      "metadata": {
        "id": "view-in-github",
        "colab_type": "text"
      },
      "source": [
        "<a href=\"https://colab.research.google.com/github/JuanCappelletti/DEEP-LEARMING-ITBA/blob/main/MONTY%20HALL.ipynb\" target=\"_parent\"><img src=\"https://colab.research.google.com/assets/colab-badge.svg\" alt=\"Open In Colab\"/></a>"
      ]
    },
    {
      "cell_type": "markdown",
      "metadata": {
        "id": "LugdhRSj-P7-"
      },
      "source": [
        "# *Problema de monthy Hall.*\n"
      ]
    },
    {
      "cell_type": "markdown",
      "metadata": {
        "id": "HbgFS1hWUet5",
        "tags": []
      },
      "source": [
        "**Declaraciones y variables**\n"
      ]
    },
    {
      "cell_type": "code",
      "execution_count": 55,
      "metadata": {
        "id": "WRlX81Iu-k2T",
        "tags": [],
        "colab": {
          "base_uri": "https://localhost:8080/"
        },
        "outputId": "d0bf4ead-c3e3-4994-a498-bb135d60c703"
      },
      "outputs": [
        {
          "output_type": "stream",
          "name": "stdout",
          "text": [
            "The autoreload extension is already loaded. To reload it, use:\n",
            "  %reload_ext autoreload\n",
            " Cantidad de puertas del juego  [1 2 3]\n"
          ]
        }
      ],
      "source": [
        "%load_ext autoreload\n",
        "%autoreload 2\n",
        "\n",
        "import numpy as np  # libreria numpy\n",
        "n=3       # Numero de puertas CREADAS Y A ELEGIR\n",
        "PUERTAS=np.array(np.arange(1,n+1,dtype=int)) # creacion de las puertas a simular\n",
        "CS=1        # Cantidad de Simulaciones\n",
        "print (\" Cantidad de puertas del juego \",PUERTAS)\n",
        "Pos_AUTO=0          # Variable guarda la posicion que el auto esta\n",
        "Elec_Jugador=0      # Variable guara la puerta que el jugador elijirá\n",
        "Resto_puertas=0     # son las puertas que el jugador no eligio\n",
        "Elec_final_jugador=[]  # Opciones aleatoria que el jugador debera aleatoriamente elegir\n",
        "Aciertos_sin_cambio=0  # Cantidad de aciertos cuando el jugador nunca cambia de puerta\n",
        "Aciertos_con_cambio=0  # Cantidad de aciertos cuando el jugador siempre cambia de puerta\n",
        "Aciertos_aleatorios=0  # Cantidad de aciertos cuado el jugador cambia aleatoriamente de puerta.\n",
        "Puerta_Monty=0         # Es la puerta final que el presentador deja cerrada."
      ]
    },
    {
      "cell_type": "markdown",
      "metadata": {
        "tags": [],
        "id": "QJfbptF5LKkw"
      },
      "source": [
        "# *Simulación*"
      ]
    },
    {
      "cell_type": "code",
      "execution_count": 56,
      "metadata": {
        "tags": [],
        "id": "GxdLUfuTLKkx",
        "outputId": "12f3572c-a2e7-4c19-f8c2-38d12798a2d7",
        "colab": {
          "base_uri": "https://localhost:8080/"
        }
      },
      "outputs": [
        {
          "output_type": "stream",
          "name": "stdout",
          "text": [
            "El auto esta en la puerta:   1 \n",
            "El jugador eligio la puerta:   2 \n",
            "El presentador pueder jugar con las puertas:  [1 3]\n",
            "\n",
            "Puerta que el presentador dejo cerrada: 1\n"
          ]
        }
      ],
      "source": [
        "for i in range (CS):\n",
        "\n",
        "  #Inicio de juego , Aleatoridad en la distribucion de valores.\n",
        "\n",
        "  Pos_AUTO=np.random.choice(PUERTAS)    # asigna  Auto al azar.\n",
        "  Elec_Jugador=np.random.choice(PUERTAS) # asigna eleccion de puerta al azar. \n",
        "  Resto_puertas=np.delete(PUERTAS,Elec_Jugador-1) # Puertas que no elijio el jugador y con las que el presentador podra optar mostrar.\n",
        "\n",
        "  # Simulación de la partida.\n",
        "  if Pos_AUTO==Elec_Jugador:  \n",
        "      Aciertos_sin_cambio +=1     #Aciertos del Jugador si nunca cambia de puerta.\n",
        "  if Pos_AUTO !=Elec_Jugador:\n",
        "      Aciertos_con_cambio +=1     #Aciertos del presentador,  que si el jugador siempre elige cambiar se tranfieren él.\n",
        "\n",
        "  # Simulación para cambio aleatorio.\n",
        "  if Pos_AUTO==Resto_puertas[0]:\n",
        "       Puerta_Monty=Resto_puertas[0]  # El presentador deja esta puerta cerrada si es la que tiene el auto \n",
        "  elif Pos_AUTO==Resto_puertas[1]:\n",
        "       Puerta_Monty=Resto_puertas[1]  # El presentador deja esta puerta cerrada si es la que tiene el auto \n",
        "  else :\n",
        "       Puerta_Monty=np.random.choice( Resto_puertas) # Si el presentador no tiene el auto, es indistinto cual habra. ( se elige aleatoriamente).\n",
        "\n",
        "  Elec_final_jugador=[Elec_Jugador,Puerta_Monty]   # Array con la pueta del jugador y la puerta que el presentador dejo cerrada.\n",
        "\n",
        "  #Evaluación del cambia aleatoria de las puetas finales.\n",
        "  if Pos_AUTO==np.random.choice(Elec_final_jugador):\n",
        "      Aciertos_aleatorios +=1\n",
        "\n",
        "print(\"El auto esta en la puerta:  \",Pos_AUTO ,\"\\nEl jugador eligio la puerta:  \", Elec_Jugador,\"\\nEl presentador pueder jugar con las puertas: \", Resto_puertas)\n",
        "print(\"\\nPuerta que el presentador dejo cerrada:\",Puerta_Monty)\n",
        "#print(Aciertos_sin_cambio, Aciertos_con_cambio, )"
      ]
    }
  ],
  "metadata": {
    "colab": {
      "provenance": [],
      "toc_visible": true,
      "include_colab_link": true
    },
    "kernelspec": {
      "display_name": "Python 3",
      "language": "python",
      "name": "python3"
    },
    "language_info": {
      "codemirror_mode": {
        "name": "ipython",
        "version": 3
      },
      "file_extension": ".py",
      "mimetype": "text/x-python",
      "name": "python",
      "nbconvert_exporter": "python",
      "pygments_lexer": "ipython3",
      "version": "3.6.13"
    }
  },
  "nbformat": 4,
  "nbformat_minor": 0
}
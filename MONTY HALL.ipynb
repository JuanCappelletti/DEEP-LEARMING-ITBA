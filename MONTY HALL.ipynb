{
  "nbformat": 4,
  "nbformat_minor": 0,
  "metadata": {
    "colab": {
      "provenance": [],
      "toc_visible": true,
      "authorship_tag": "ABX9TyMIDr1QSJzOMU8uesl7X3Xq",
      "include_colab_link": true
    },
    "kernelspec": {
      "name": "python3",
      "display_name": "Python 3"
    },
    "language_info": {
      "name": "python"
    }
  },
  "cells": [
    {
      "cell_type": "markdown",
      "metadata": {
        "id": "view-in-github",
        "colab_type": "text"
      },
      "source": [
        "<a href=\"https://colab.research.google.com/github/JuanCappelletti/DEEP-LEARMING-ITBA/blob/main/MONTY%20HALL.ipynb\" target=\"_parent\"><img src=\"https://colab.research.google.com/assets/colab-badge.svg\" alt=\"Open In Colab\"/></a>"
      ]
    },
    {
      "cell_type": "markdown",
      "source": [
        "# **Problema de monthy Hall.**\n"
      ],
      "metadata": {
        "id": "LugdhRSj-P7-"
      }
    },
    {
      "cell_type": "markdown",
      "source": [
        "**Declarciones**\n"
      ],
      "metadata": {
        "id": "HbgFS1hWUet5"
      }
    },
    {
      "cell_type": "code",
      "source": [
        "import numpy as np  # libreria numpy\n",
        "n=2 # Numero de puertas"
      ],
      "metadata": {
        "id": "WRlX81Iu-k2T"
      },
      "execution_count": 93,
      "outputs": []
    },
    {
      "cell_type": "markdown",
      "source": [
        "***Posicionamiento deL Auto Aleatorio***"
      ],
      "metadata": {
        "id": "8h2h2j6We5CS"
      }
    },
    {
      "cell_type": "code",
      "source": [
        "PUERTAS= np.zeros(n, dtype=bool)  # incializo 3 puertas en una array\n",
        "PUERTAS=np.insert(PUERTAS,np.random.randint(0,3),True) # insertamos un booleano \"true \" aleatoriamente en caulquiera de las puertas . TRUE = AUTO\n",
        "print (\"Pn°1:\", PUERTAS[0],\"  Pn°2:\",PUERTAS[1],\"  Pn°3:\",PUERTAS[2])\n"
      ],
      "metadata": {
        "colab": {
          "base_uri": "https://localhost:8080/"
        },
        "id": "xtDfr0e2-ytD",
        "outputId": "d725e039-6c5b-4dbb-c1e5-8fdfe944bbdc"
      },
      "execution_count": 125,
      "outputs": [
        {
          "output_type": "stream",
          "name": "stdout",
          "text": [
            "Pn°1: False   Pn°2: False   Pn°3: True\n"
          ]
        }
      ]
    },
    {
      "cell_type": "code",
      "source": [],
      "metadata": {
        "id": "-2c_TJmVEA15"
      },
      "execution_count": 73,
      "outputs": []
    },
    {
      "cell_type": "markdown",
      "source": [
        "# Nueva sección"
      ],
      "metadata": {
        "id": "OpP8WkfhiQfT"
      }
    }
  ]
}
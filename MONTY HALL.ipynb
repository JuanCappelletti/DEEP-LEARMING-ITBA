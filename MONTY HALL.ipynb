{
  "cells": [
    {
      "cell_type": "markdown",
      "metadata": {
        "id": "view-in-github",
        "colab_type": "text"
      },
      "source": [
        "<a href=\"https://colab.research.google.com/github/JuanCappelletti/DEEP-LEARMING-ITBA/blob/main/MONTY%20HALL.ipynb\" target=\"_parent\"><img src=\"https://colab.research.google.com/assets/colab-badge.svg\" alt=\"Open In Colab\"/></a>"
      ]
    },
    {
      "cell_type": "markdown",
      "metadata": {
        "id": "LugdhRSj-P7-"
      },
      "source": [
        "# *Problema de monthy Hall.*\n"
      ]
    },
    {
      "cell_type": "markdown",
      "metadata": {
        "id": "HbgFS1hWUet5",
        "tags": []
      },
      "source": [
        "**Declaraciones y variables**\n"
      ]
    },
    {
      "cell_type": "code",
      "source": [
        "%load_ext autoreload\n",
        "%autoreload 2"
      ],
      "metadata": {
        "id": "d6hOQZMdC3rE",
        "outputId": "08a14f14-3f88-4cd4-e79c-5269d0c826a9",
        "colab": {
          "base_uri": "https://localhost:8080/"
        }
      },
      "execution_count": 80,
      "outputs": [
        {
          "output_type": "stream",
          "name": "stdout",
          "text": [
            "The autoreload extension is already loaded. To reload it, use:\n",
            "  %reload_ext autoreload\n"
          ]
        }
      ]
    },
    {
      "cell_type": "code",
      "execution_count": 81,
      "metadata": {
        "id": "WRlX81Iu-k2T",
        "tags": [],
        "colab": {
          "base_uri": "https://localhost:8080/"
        },
        "outputId": "85ea8051-4271-4cbe-b64e-ac8fbd24a17e"
      },
      "outputs": [
        {
          "output_type": "stream",
          "name": "stdout",
          "text": [
            " Cantidad de puertas del juego  [1 2 3]\n"
          ]
        }
      ],
      "source": [
        "\n",
        "import numpy as np  # libreria numpy\n",
        "n=3                 # Numero de puertas CREADAS Y A ELEGIR\n",
        "PUERTAS=np.array(np.arange(1,n+1,dtype=int)) # creacion de las puertas a simular\n",
        "CS=1000          # Cantidad de Simulaciones\n",
        "print (\" Cantidad de puertas del juego \",PUERTAS)\n",
        "Pos_AUTO=0          # Variable guarda la posicion que el auto esta\n",
        "Elec_Jugador=0      # Variable guara la puerta que el jugador elijirá\n",
        "Resto_puertas=0     # son las puertas que el jugador no eligio\n",
        "Aciertos_sin_cambio=0  # CAntidad de aciertos cuando el jugador no cambia de puerta\n"
      ]
    },
    {
      "cell_type": "code",
      "execution_count": null,
      "metadata": {
        "id": "xtDfr0e2-ytD",
        "tags": []
      },
      "outputs": [],
      "source": [
        "#def ALEATORIO(arr) :\n",
        "    #arr= np.zeros(n, dtype=bool)  # incializo 3 puertas en una array\n",
        "    #arr=np.insert(arr,np.random.randint(0,3),True) # insertamos un booleano \"true \" aleatoriamente en caulquiera de las puertas . \n",
        "    #return arr"
      ]
    },
    {
      "cell_type": "markdown",
      "metadata": {
        "tags": [],
        "id": "QJfbptF5LKkw"
      },
      "source": [
        "# *Simulación*"
      ]
    },
    {
      "cell_type": "code",
      "execution_count": 82,
      "metadata": {
        "tags": [],
        "id": "GxdLUfuTLKkx",
        "outputId": "6d135c36-b17d-4040-cb56-8a128d1b674b",
        "colab": {
          "base_uri": "https://localhost:8080/"
        }
      },
      "outputs": [
        {
          "output_type": "stream",
          "name": "stdout",
          "text": [
            "351\n"
          ]
        }
      ],
      "source": [
        "for i in range (CS):\n",
        "\n",
        "  #Inicio de juego , Aleatoridad en la distribucion de valores\n",
        "\n",
        "  Pos_AUTO=np.random.choice(PUERTAS)    # asigna  Auto al azar\n",
        "  Elec_Jugador=np.random.choice(PUERTAS) # asigna eleccion de puerta al azar \n",
        "  Resto_puertas=np.delete(PUERTAS,Elec_Jugador-1) # Puertas que no elijio el jugador y con las que el presentador podra optar mostrar\n",
        "  #print(\"El auto esta en la puerta:  \",Pos_AUTO ,\"\\nEl jugador eligio la puerta:  \", Elec_Jugador,\"\\nEl presentador pueder jugar con las puertas: \", Resto_puertas) \n",
        "  if Pos_AUTO==Elec_Jugador:  \n",
        "      Aciertos_sin_cambio +=1\n",
        "\n",
        "print (Aciertos_sin_cambio)"
      ]
    }
  ],
  "metadata": {
    "colab": {
      "provenance": [],
      "toc_visible": true,
      "include_colab_link": true
    },
    "kernelspec": {
      "display_name": "Python 3",
      "language": "python",
      "name": "python3"
    },
    "language_info": {
      "codemirror_mode": {
        "name": "ipython",
        "version": 3
      },
      "file_extension": ".py",
      "mimetype": "text/x-python",
      "name": "python",
      "nbconvert_exporter": "python",
      "pygments_lexer": "ipython3",
      "version": "3.6.13"
    }
  },
  "nbformat": 4,
  "nbformat_minor": 0
}
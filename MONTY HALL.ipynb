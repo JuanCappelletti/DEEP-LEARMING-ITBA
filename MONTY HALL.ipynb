{
  "cells": [
    {
      "cell_type": "markdown",
      "metadata": {
        "id": "view-in-github",
        "colab_type": "text"
      },
      "source": [
        "<a href=\"https://colab.research.google.com/github/JuanCappelletti/DEEP-LEARMING-ITBA/blob/main/MONTY%20HALL.ipynb\" target=\"_parent\"><img src=\"https://colab.research.google.com/assets/colab-badge.svg\" alt=\"Open In Colab\"/></a>"
      ]
    },
    {
      "cell_type": "markdown",
      "metadata": {
        "id": "LugdhRSj-P7-"
      },
      "source": [
        "# *Problema de monthy Hall.*\n"
      ]
    },
    {
      "cell_type": "markdown",
      "metadata": {
        "id": "HbgFS1hWUet5",
        "tags": []
      },
      "source": [
        "**Declaraciones y variables**\n"
      ]
    },
    {
      "cell_type": "code",
      "execution_count": 21,
      "metadata": {
        "id": "WRlX81Iu-k2T",
        "tags": [],
        "outputId": "2be99055-8150-4363-80ef-856e8e31b475",
        "colab": {
          "base_uri": "https://localhost:8080/"
        }
      },
      "outputs": [
        {
          "output_type": "stream",
          "name": "stdout",
          "text": [
            " Cantidad de puertas del juego  [1 2 3]\n"
          ]
        }
      ],
      "source": [
        "import numpy as np  # libreria numpy\n",
        "n=3                 # Numero de puertas CREADAS Y A ELEGIR\n",
        "PUERTAS=np.array(np.arange(1,n+1,dtype=int)) # creacion de las puertas a simular\n",
        "CS=1           # Cantidad de Simulaciones\n",
        "print (\" Cantidad de puertas del juego \",PUERTAS)\n",
        "Pos_AUTO=0          # Variable guarda la posicion que el auto esta\n",
        "Elec_Jugador=0      # Variable guara la puerta que el jugador elijirá\n",
        "Presentador=0 \n",
        "\n"
      ]
    },
    {
      "cell_type": "code",
      "execution_count": null,
      "metadata": {
        "id": "xtDfr0e2-ytD",
        "tags": []
      },
      "outputs": [],
      "source": [
        "#def ALEATORIO(arr) :\n",
        "    #arr= np.zeros(n, dtype=bool)  # incializo 3 puertas en una array\n",
        "    #arr=np.insert(arr,np.random.randint(0,3),True) # insertamos un booleano \"true \" aleatoriamente en caulquiera de las puertas . \n",
        "    #return arr"
      ]
    },
    {
      "cell_type": "markdown",
      "metadata": {
        "tags": [],
        "id": "QJfbptF5LKkw"
      },
      "source": [
        "# *Simulación*"
      ]
    },
    {
      "cell_type": "code",
      "execution_count": 34,
      "metadata": {
        "tags": [],
        "id": "GxdLUfuTLKkx",
        "outputId": "9c2e2656-d882-4b1a-dac4-dcab90f1aba2",
        "colab": {
          "base_uri": "https://localhost:8080/"
        }
      },
      "outputs": [
        {
          "output_type": "stream",
          "name": "stdout",
          "text": [
            "2 1\n"
          ]
        }
      ],
      "source": [
        "for i in range (CS):\n",
        "  #Inicio de juego , Aleatoridad en la puertas y seleccion del jugador \n",
        "  Pos_AUTO=np.random.choice(PUERTAS)    # Auto al azar\n",
        "  Elec_Jugador=np.random.choice(PUERTAS) # eleccion de puerta al azar \n",
        "  print( Pos_AUTO , Elec_Jugador) "
      ]
    },
    {
      "cell_type": "code",
      "execution_count": null,
      "metadata": {
        "tags": [],
        "outputId": "d264d9e2-850d-4297-e153-6f950ee0d0f1",
        "colab": {
          "base_uri": "https://localhost:8080/"
        },
        "id": "BIHD0TBdUBHr"
      },
      "outputs": [
        {
          "output_type": "stream",
          "name": "stdout",
          "text": [
            "[     0 300000]\n"
          ]
        }
      ],
      "source": []
    }
  ],
  "metadata": {
    "colab": {
      "provenance": [],
      "toc_visible": true,
      "include_colab_link": true
    },
    "kernelspec": {
      "display_name": "Python 3",
      "language": "python",
      "name": "python3"
    },
    "language_info": {
      "codemirror_mode": {
        "name": "ipython",
        "version": 3
      },
      "file_extension": ".py",
      "mimetype": "text/x-python",
      "name": "python",
      "nbconvert_exporter": "python",
      "pygments_lexer": "ipython3",
      "version": "3.6.13"
    }
  },
  "nbformat": 4,
  "nbformat_minor": 0
}